{
 "cells": [
  {
   "cell_type": "markdown",
   "metadata": {},
   "source": [
    "# Genetic Algorithm TSP"
   ]
  },
  {
   "cell_type": "code",
   "execution_count": 1,
   "metadata": {},
   "outputs": [],
   "source": [
    "from random import randint\n",
    "import numpy as np\n",
    "import random\n",
    "import matplotlib.pyplot as plt\n",
    "plt.style.use('seaborn-whitegrid')"
   ]
  },
  {
   "cell_type": "markdown",
   "metadata": {},
   "source": [
    "## 1. Initialization"
   ]
  },
  {
   "cell_type": "code",
   "execution_count": 2,
   "metadata": {},
   "outputs": [],
   "source": [
    "#holds the x coord, y coord, and a key for sorting\n",
    "class cities:\n",
    "    def __init__(self, x,y, key):\n",
    "        self.x = x\n",
    "        self.y = y\n",
    "        self.key = key"
   ]
  },
  {
   "cell_type": "code",
   "execution_count": 3,
   "metadata": {},
   "outputs": [],
   "source": [
    "#randomly generates n cities with x and y coords\n",
    "def makeCities(num):\n",
    "    cityList = {}\n",
    "    for i in range(0,num):\n",
    "        cityList[i] = cities(randint(0,200),randint(0,200),i)\n",
    "    return cityList"
   ]
  },
  {
   "cell_type": "markdown",
   "metadata": {},
   "source": [
    "## 2. Evaluation"
   ]
  },
  {
   "cell_type": "code",
   "execution_count": 4,
   "metadata": {},
   "outputs": [],
   "source": [
    "#distance calc\n",
    "def distance(city1, city2):\n",
    "    distancex = np.sqrt((city1.x-city2.x)**2)\n",
    "    distancey = np.sqrt((city1.y-city2.y)**2)\n",
    "    return np.sqrt(distancex**2 + distancey**2)"
   ]
  },
  {
   "cell_type": "code",
   "execution_count": 5,
   "metadata": {},
   "outputs": [],
   "source": [
    "def fitness(key,cityList):\n",
    "    #assigns a fitness value based on the inverse of the distance between cities\n",
    "    fitness = {}\n",
    "    for i in range(0,len(key)):\n",
    "        if((i+1) < len(key)):\n",
    "            fitness[i] = 1/(distance(cityList[key[i]],cityList[key[i+1]]))\n",
    "    return fitness"
   ]
  },
  {
   "cell_type": "markdown",
   "metadata": {},
   "source": [
    "## 3. Selection"
   ]
  },
  {
   "cell_type": "code",
   "execution_count": 6,
   "metadata": {},
   "outputs": [],
   "source": [
    "def tournament(route1,route2,keys1,keys2):\n",
    "    #randomly takes k elements and assesses which ones are closest to eachother\n",
    "    sub1 = random.choices(keys1,k=4)\n",
    "    sub2 = random.choices(keys2,k=4)\n",
    "    #gives the elements that were chosen at random with the corresponding fitness scores\n",
    "    f1 = fitness(sub1,route1)\n",
    "    f2 = fitness(sub2,route2)\n",
    "    #sorts fitness arrays to be in order\n",
    "    for i in range(0,len(f1)):\n",
    "        for x in range(i,len(f2)):\n",
    "            if(f1[i] > f1[x]):\n",
    "                temp = f1[x]\n",
    "                f1[x] = f1[i]\n",
    "                f1[i] = temp\n",
    "                temp = sub1[i]\n",
    "                sub1[i] = sub1[x]\n",
    "                sub1[x] = temp\n",
    "            if(f2[i] > f2[x]):\n",
    "                temp = f2[x]\n",
    "                f2[x] = f2[i]\n",
    "                f2[i] = temp\n",
    "                temp = sub2[i]\n",
    "                sub2[i] = sub2[x]\n",
    "                sub2[x] = temp\n",
    "    for i in range(0,len(route1)):\n",
    "        #it only replaces half of the key values (only the best ones)\n",
    "        for x in range(0,int(len(f1)/2)):\n",
    "        #if one of the elements with a good fitness value are found it will swap out the elements to create a new child \n",
    "            if(f1[x] == route1[i]):\n",
    "                elem = route1.index(f1[x+1])\n",
    "                temp = route1[elem]\n",
    "                route1[elem] = route1[i+1]\n",
    "                route1[i+1] = temp\n",
    "            if(f2[x] == route2[i]):\n",
    "                elem = route2.index(f2[x+1])\n",
    "                temp = route2[elem]\n",
    "                route2[elem] = route2[i+1]\n",
    "                route2[i+1] = temp\n",
    "    return route1,route2"
   ]
  },
  {
   "cell_type": "markdown",
   "metadata": {},
   "source": [
    "## 4. Crossover and Mutation"
   ]
  },
  {
   "cell_type": "code",
   "execution_count": 7,
   "metadata": {},
   "outputs": [],
   "source": [
    "#randomly arranges the keys into new lists (parents)\n",
    "#then re sorts the city list to match the random key lists\n",
    "def findRoute(cityList):\n",
    "    keys = {}\n",
    "    for i in range(0,len(cityList)):\n",
    "        keys[i] = cityList[i].key\n",
    "    np.random.shuffle(keys)\n",
    "    ret = {}\n",
    "    for i in range(0,len(cityList)):\n",
    "        ret[i] = cityList[keys[i]]\n",
    "    return keys, ret"
   ]
  },
  {
   "cell_type": "code",
   "execution_count": 8,
   "metadata": {},
   "outputs": [],
   "source": [
    "def tourn(cityList):\n",
    "    #generates the parent routes\n",
    "    keys1,route1 = findRoute(cityList)\n",
    "    keys2,route2 = findRoute(cityList)\n",
    "    return tournament(route1,route2,keys1,keys2)"
   ]
  },
  {
   "cell_type": "markdown",
   "metadata": {},
   "source": [
    "# Problem 1"
   ]
  },
  {
   "cell_type": "code",
   "execution_count": 9,
   "metadata": {},
   "outputs": [
    {
     "name": "stdout",
     "output_type": "stream",
     "text": [
      "Child1\n",
      "[3, 0, 7, 5, 2, 9, 4, 6, 8, 1]\n",
      "child2\n",
      "[2, 4, 6, 9, 1, 0, 8, 3, 7, 5]\n",
      "origional\n",
      "[0, 1, 2, 3, 4, 5, 6, 7, 8, 9]\n"
     ]
    },
    {
     "name": "stderr",
     "output_type": "stream",
     "text": [
      "/anaconda3/lib/python3.7/site-packages/ipykernel_launcher.py:6: RuntimeWarning: divide by zero encountered in double_scalars\n",
      "  \n"
     ]
    }
   ],
   "source": [
    "#makes the cities and creates the next generation\n",
    "ll = makeCities(10)\n",
    "child1, child2 = tourn(ll)\n",
    "\n",
    "#prints out the child routes and the original\n",
    "print(\"Child1\")\n",
    "child1_list = [child1[i].key for i in range(len(child1))]\n",
    "print(child1_list)\n",
    "\n",
    "print(\"child2\")\n",
    "child2_list = [child2[i].key for i in range(len(child2))]\n",
    "print(child2_list)\n",
    "\n",
    "print(\"origional\")\n",
    "original = [ll[i].key for i in range(len(ll))]\n",
    "print(original)"
   ]
  },
  {
   "cell_type": "code",
   "execution_count": 10,
   "metadata": {},
   "outputs": [
    {
     "name": "stdout",
     "output_type": "stream",
     "text": [
      "[133, 110, 69, 187, 116, 171, 104, 103, 197, 79, 133]\n",
      "[79, 110, 186, 158, 35, 104, 198, 100, 105, 134, 79]\n"
     ]
    },
    {
     "data": {
      "text/plain": [
       "[<matplotlib.lines.Line2D at 0x114302518>]"
      ]
     },
     "execution_count": 10,
     "metadata": {},
     "output_type": "execute_result"
    },
    {
     "data": {
      "image/png": "[encoded data removed]",
      "text/plain": [
       "<Figure size 432x288 with 1 Axes>"
      ]
     },
     "metadata": {
      "needs_background": "light"
     },
     "output_type": "display_data"
    }
   ],
   "source": [
    "x, y = [], []\n",
    "for key in child2_list:\n",
    "    x.append(child2[key].x)\n",
    "    y.append(child2[key].y)\n",
    "x.append(x[0])\n",
    "y.append(y[0])\n",
    "print(x)\n",
    "print(y)\n",
    "\n",
    "plt.plot(x, y, '-ok', color='red')"
   ]
  },
  {
   "cell_type": "markdown",
   "metadata": {},
   "source": [
    "# Problem 2"
   ]
  },
  {
   "cell_type": "code",
   "execution_count": null,
   "metadata": {},
   "outputs": [],
   "source": []
  }
 ],
 "metadata": {
  "kernelspec": {
   "display_name": "Python 3",
   "language": "python",
   "name": "python3"
  },
  "language_info": {
   "codemirror_mode": {
    "name": "ipython",
    "version": 3
   },
   "file_extension": ".py",
   "mimetype": "text/x-python",
   "name": "python",
   "nbconvert_exporter": "python",
   "pygments_lexer": "ipython3",
   "version": "3.7.1"
  }
 },
 "nbformat": 4,
 "nbformat_minor": 2
}
